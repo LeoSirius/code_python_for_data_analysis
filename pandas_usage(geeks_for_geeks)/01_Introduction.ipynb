{
 "cells": [
  {
   "cell_type": "markdown",
   "metadata": {},
   "source": [
    "# Introduction\n",
    "\n",
    "## Introduction to Pandas in Python"
   ]
  },
  {
   "cell_type": "markdown",
   "metadata": {},
   "source": [
    "pandas输出的数据，常作为matplot，SciPy，Scikit-learn等库的输入数据。\n",
    "\n",
    "pandas中两个核心数据结构：\n",
    "\n",
    "- Series\n",
    "- DataFrame\n",
    "\n",
    "### Series\n",
    "\n",
    "**Pandas Series is a one-dimensional labeled array capable of holding data of any type.**\n",
    "\n",
    "可以理解为excel中的一列"
   ]
  },
  {
   "cell_type": "code",
   "execution_count": 1,
   "metadata": {},
   "outputs": [
    {
     "name": "stdout",
     "output_type": "stream",
     "text": [
      "empty ser: Series([], dtype: float64)\n",
      "0    g\n",
      "1    e\n",
      "2    e\n",
      "3    k\n",
      "4    s\n",
      "dtype: object\n"
     ]
    }
   ],
   "source": [
    "import pandas as pd  \n",
    "import numpy as np \n",
    "  \n",
    "  \n",
    "# Creating empty series  \n",
    "ser = pd.Series()  \n",
    "    \n",
    "print(\"empty ser:\", ser)  \n",
    "  \n",
    "# simple array  \n",
    "data = np.array(['g', 'e', 'e', 'k', 's'])  \n",
    "    \n",
    "ser = pd.Series(data)  \n",
    "print(\"ser\"ser) "
   ]
  },
  {
   "cell_type": "markdown",
   "metadata": {},
   "source": [
    "### DataFrame\n",
    "\n",
    "**Pandas DataFrame is two-dimensional size-mutable, potentially heterogeneous tabular data structure with labeled axes (rows and columns).**"
   ]
  },
  {
   "cell_type": "code",
   "execution_count": 6,
   "metadata": {},
   "outputs": [
    {
     "name": "stdout",
     "output_type": "stream",
     "text": [
      "df = Empty DataFrame\n",
      "Columns: []\n",
      "Index: []\n",
      "        0\n",
      "0   Geeks\n",
      "1     For\n",
      "2   Geeks\n",
      "3      is\n",
      "4  portal\n",
      "5     for\n",
      "6   Geeks\n"
     ]
    }
   ],
   "source": [
    "import pandas as pd  \n",
    "    \n",
    "# Calling DataFrame constructor  \n",
    "df = pd.DataFrame()  \n",
    "print('df = {}'.format(df)) \n",
    "  \n",
    "# list of strings  \n",
    "lst = ['Geeks', 'For', 'Geeks', 'is',   \n",
    "            'portal', 'for', 'Geeks']  \n",
    "    \n",
    "# Calling DataFrame constructor on list  \n",
    "df = pd.DataFrame(lst)  \n",
    "print(df)  "
   ]
  },
  {
   "cell_type": "code",
   "execution_count": null,
   "metadata": {},
   "outputs": [],
   "source": []
  }
 ],
 "metadata": {
  "kernelspec": {
   "display_name": "Python 3",
   "language": "python",
   "name": "python3"
  },
  "language_info": {
   "codemirror_mode": {
    "name": "ipython",
    "version": 3
   },
   "file_extension": ".py",
   "mimetype": "text/x-python",
   "name": "python",
   "nbconvert_exporter": "python",
   "pygments_lexer": "ipython3",
   "version": "3.7.3"
  },
  "toc": {
   "base_numbering": 1,
   "nav_menu": {},
   "number_sections": true,
   "sideBar": true,
   "skip_h1_title": false,
   "title_cell": "Table of Contents",
   "title_sidebar": "Contents",
   "toc_cell": false,
   "toc_position": {},
   "toc_section_display": true,
   "toc_window_display": true
  }
 },
 "nbformat": 4,
 "nbformat_minor": 2
}
